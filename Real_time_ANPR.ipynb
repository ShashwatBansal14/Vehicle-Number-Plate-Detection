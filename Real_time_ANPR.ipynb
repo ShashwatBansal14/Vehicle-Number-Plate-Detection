{
 "cells": [
  {
   "cell_type": "code",
   "execution_count": 1,
   "id": "5e674818",
   "metadata": {},
   "outputs": [
    {
     "name": "stderr",
     "output_type": "stream",
     "text": [
      "C:\\Users\\91843\\anaconda4\\Lib\\site-packages\\paramiko\\transport.py:219: CryptographyDeprecationWarning: Blowfish has been deprecated\n",
      "  \"class\": algorithms.Blowfish,\n",
      "Neither CUDA nor MPS are available - defaulting to CPU. Note: This module is much faster with a GPU.\n"
     ]
    },
    {
     "ename": "error",
     "evalue": "OpenCV(4.8.1) D:\\a\\opencv-python\\opencv-python\\opencv\\modules\\highgui\\src\\window.cpp:1272: error: (-2:Unspecified error) The function is not implemented. Rebuild the library with Windows, GTK+ 2.x or Cocoa support. If you are on Ubuntu or Debian, install libgtk2.0-dev and pkg-config, then re-run cmake or configure script in function 'cvShowImage'\n",
     "output_type": "error",
     "traceback": [
      "\u001b[1;31m---------------------------------------------------------------------------\u001b[0m",
      "\u001b[1;31merror\u001b[0m                                     Traceback (most recent call last)",
      "Cell \u001b[1;32mIn[1], line 34\u001b[0m\n\u001b[0;32m     26\u001b[0m     \u001b[38;5;28;01mif\u001b[39;00m result:\n\u001b[0;32m     27\u001b[0m         cv2\u001b[38;5;241m.\u001b[39mputText(img,\n\u001b[0;32m     28\u001b[0m                    result[\u001b[38;5;241m0\u001b[39m][\u001b[38;5;241m1\u001b[39m],\n\u001b[0;32m     29\u001b[0m                    (x,y \u001b[38;5;241m-\u001b[39m \u001b[38;5;241m10\u001b[39m),\n\u001b[1;32m   (...)\u001b[0m\n\u001b[0;32m     32\u001b[0m                    (\u001b[38;5;241m0\u001b[39m, \u001b[38;5;241m0\u001b[39m, \u001b[38;5;241m255\u001b[39m),\n\u001b[0;32m     33\u001b[0m                    \u001b[38;5;241m2\u001b[39m)\n\u001b[1;32m---> 34\u001b[0m cv2\u001b[38;5;241m.\u001b[39mimshow(\u001b[38;5;124m'\u001b[39m\u001b[38;5;124mDemo\u001b[39m\u001b[38;5;124m'\u001b[39m,img)\n\u001b[0;32m     36\u001b[0m \u001b[38;5;28;01mif\u001b[39;00m cv2\u001b[38;5;241m.\u001b[39mwaitKey(\u001b[38;5;241m1\u001b[39m) \u001b[38;5;241m&\u001b[39m \u001b[38;5;241m0xFF\u001b[39m \u001b[38;5;241m==\u001b[39m \u001b[38;5;28mord\u001b[39m(\u001b[38;5;124m'\u001b[39m\u001b[38;5;124mq\u001b[39m\u001b[38;5;124m'\u001b[39m):\n\u001b[0;32m     37\u001b[0m     \u001b[38;5;28;01mbreak\u001b[39;00m\n",
      "\u001b[1;31merror\u001b[0m: OpenCV(4.8.1) D:\\a\\opencv-python\\opencv-python\\opencv\\modules\\highgui\\src\\window.cpp:1272: error: (-2:Unspecified error) The function is not implemented. Rebuild the library with Windows, GTK+ 2.x or Cocoa support. If you are on Ubuntu or Debian, install libgtk2.0-dev and pkg-config, then re-run cmake or configure script in function 'cvShowImage'\n"
     ]
    }
   ],
   "source": [
    "import cv2\n",
    "from easyocr import easyocr\n",
    "\n",
    "#harcascade_path = r'C:/Users/91843/Desktop/Projects/Vehicle number plate detection/haarcascade_russian_plate_number.xml'\n",
    "plate_cascade = cv2.CascadeClassifier(cv2.data.haarcascades + 'haarcascade_russian_plate_number.xml')\n",
    "\n",
    "cap = cv2.VideoCapture(1)\n",
    "if not cap.isOpened():\n",
    "    cap = cv2.VideoCapture(0)\n",
    "if not cap.isOpened():\n",
    "    raise IOError(\"Cannot open webcam\")\n",
    "    \n",
    "reader = easyocr.Reader(['en'])\n",
    "\n",
    "while True:\n",
    "    success, img = cap.read()\n",
    "    img_gray = cv2.cvtColor(img, cv2.COLOR_BGR2GRAY)\n",
    "    plates = plate_cascade.detectMultiScale(img_gray, 1.1, 4)\n",
    "    \n",
    "    for (x, y, w, h) in plates:\n",
    "        cv2.rectangle(img, (x, y), (x+w, y+h), (0,255,0), 2)\n",
    "        \n",
    "        cropped_plate = img[y:y+h, x:x+w]\n",
    "        result = reader.readtext(cropped_plate)\n",
    "        \n",
    "        if result:\n",
    "            cv2.putText(img,\n",
    "                       result[0][1],\n",
    "                       (x,y - 10),\n",
    "                       cv2.FONT_HERSHEY_SIMPLEX,\n",
    "                       0.8,\n",
    "                       (0, 0, 255),\n",
    "                       2)\n",
    "    cv2.imshow('Demo',img)\n",
    "    \n",
    "    if cv2.waitKey(1) & 0xFF == ord('q'):\n",
    "        break\n",
    "       \n",
    "cap.release()\n",
    "cv2.destroyAllWindows()\n",
    "\n",
    "            "
   ]
  }
 ],
 "metadata": {
  "kernelspec": {
   "display_name": "Python 3 (ipykernel)",
   "language": "python",
   "name": "python3"
  },
  "language_info": {
   "codemirror_mode": {
    "name": "ipython",
    "version": 3
   },
   "file_extension": ".py",
   "mimetype": "text/x-python",
   "name": "python",
   "nbconvert_exporter": "python",
   "pygments_lexer": "ipython3",
   "version": "3.11.4"
  }
 },
 "nbformat": 4,
 "nbformat_minor": 5
}
